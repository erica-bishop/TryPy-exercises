{
 "cells": [
  {
   "cell_type": "code",
   "execution_count": 23,
   "metadata": {},
   "outputs": [],
   "source": [
    "import numpy as np\n",
    "import pandas as pd\n",
    "import matplotlib as plt\n",
    "import seaborn as sbn"
   ]
  },
  {
   "cell_type": "markdown",
   "metadata": {},
   "source": [
    "## Part 1: Get the data"
   ]
  },
  {
   "cell_type": "code",
   "execution_count": 7,
   "metadata": {},
   "outputs": [
    {
     "data": {
      "text/html": [
       "<div>\n",
       "<style scoped>\n",
       "    .dataframe tbody tr th:only-of-type {\n",
       "        vertical-align: middle;\n",
       "    }\n",
       "\n",
       "    .dataframe tbody tr th {\n",
       "        vertical-align: top;\n",
       "    }\n",
       "\n",
       "    .dataframe thead th {\n",
       "        text-align: right;\n",
       "    }\n",
       "</style>\n",
       "<table border=\"1\" class=\"dataframe\">\n",
       "  <thead>\n",
       "    <tr style=\"text-align: right;\">\n",
       "      <th></th>\n",
       "      <th>geoID</th>\n",
       "      <th>tractCE</th>\n",
       "      <th>nameLSAD</th>\n",
       "      <th>countTested</th>\n",
       "      <th>pctElevated</th>\n",
       "      <th>totalPop</th>\n",
       "      <th>totalPop_MOE</th>\n",
       "      <th>white</th>\n",
       "      <th>white_MOE</th>\n",
       "      <th>black</th>\n",
       "      <th>black_MOE</th>\n",
       "      <th>povertyTot</th>\n",
       "      <th>povertyTot_MOE</th>\n",
       "      <th>povertyU18</th>\n",
       "      <th>povertyU18_MOE</th>\n",
       "    </tr>\n",
       "  </thead>\n",
       "  <tbody>\n",
       "    <tr>\n",
       "      <th>0</th>\n",
       "      <td>29510118100</td>\n",
       "      <td>118100</td>\n",
       "      <td>Census Tract 1181</td>\n",
       "      <td>345</td>\n",
       "      <td>9.57</td>\n",
       "      <td>1161</td>\n",
       "      <td>192</td>\n",
       "      <td>414</td>\n",
       "      <td>100</td>\n",
       "      <td>724</td>\n",
       "      <td>179</td>\n",
       "      <td>324</td>\n",
       "      <td>140</td>\n",
       "      <td>109</td>\n",
       "      <td>105</td>\n",
       "    </tr>\n",
       "    <tr>\n",
       "      <th>1</th>\n",
       "      <td>29510117400</td>\n",
       "      <td>117400</td>\n",
       "      <td>Census Tract 1174</td>\n",
       "      <td>871</td>\n",
       "      <td>12.06</td>\n",
       "      <td>4307</td>\n",
       "      <td>447</td>\n",
       "      <td>2604</td>\n",
       "      <td>303</td>\n",
       "      <td>1338</td>\n",
       "      <td>374</td>\n",
       "      <td>615</td>\n",
       "      <td>255</td>\n",
       "      <td>169</td>\n",
       "      <td>156</td>\n",
       "    </tr>\n",
       "    <tr>\n",
       "      <th>2</th>\n",
       "      <td>29510126700</td>\n",
       "      <td>126700</td>\n",
       "      <td>Census Tract 1267</td>\n",
       "      <td>458</td>\n",
       "      <td>18.12</td>\n",
       "      <td>1089</td>\n",
       "      <td>199</td>\n",
       "      <td>432</td>\n",
       "      <td>116</td>\n",
       "      <td>631</td>\n",
       "      <td>187</td>\n",
       "      <td>506</td>\n",
       "      <td>164</td>\n",
       "      <td>98</td>\n",
       "      <td>60</td>\n",
       "    </tr>\n",
       "    <tr>\n",
       "      <th>3</th>\n",
       "      <td>29510119102</td>\n",
       "      <td>119102</td>\n",
       "      <td>Census Tract 1191.02</td>\n",
       "      <td>182</td>\n",
       "      <td>2.20</td>\n",
       "      <td>3237</td>\n",
       "      <td>309</td>\n",
       "      <td>2008</td>\n",
       "      <td>262</td>\n",
       "      <td>646</td>\n",
       "      <td>210</td>\n",
       "      <td>958</td>\n",
       "      <td>234</td>\n",
       "      <td>15</td>\n",
       "      <td>25</td>\n",
       "    </tr>\n",
       "    <tr>\n",
       "      <th>4</th>\n",
       "      <td>29510126800</td>\n",
       "      <td>126800</td>\n",
       "      <td>Census Tract 1268</td>\n",
       "      <td>486</td>\n",
       "      <td>4.73</td>\n",
       "      <td>3490</td>\n",
       "      <td>231</td>\n",
       "      <td>3026</td>\n",
       "      <td>270</td>\n",
       "      <td>194</td>\n",
       "      <td>98</td>\n",
       "      <td>349</td>\n",
       "      <td>129</td>\n",
       "      <td>35</td>\n",
       "      <td>47</td>\n",
       "    </tr>\n",
       "  </tbody>\n",
       "</table>\n",
       "</div>"
      ],
      "text/plain": [
       "         geoID  tractCE              nameLSAD  countTested  pctElevated  \\\n",
       "0  29510118100   118100     Census Tract 1181          345         9.57   \n",
       "1  29510117400   117400     Census Tract 1174          871        12.06   \n",
       "2  29510126700   126700     Census Tract 1267          458        18.12   \n",
       "3  29510119102   119102  Census Tract 1191.02          182         2.20   \n",
       "4  29510126800   126800     Census Tract 1268          486         4.73   \n",
       "\n",
       "   totalPop  totalPop_MOE  white  white_MOE  black  black_MOE  povertyTot  \\\n",
       "0      1161           192    414        100    724        179         324   \n",
       "1      4307           447   2604        303   1338        374         615   \n",
       "2      1089           199    432        116    631        187         506   \n",
       "3      3237           309   2008        262    646        210         958   \n",
       "4      3490           231   3026        270    194         98         349   \n",
       "\n",
       "   povertyTot_MOE  povertyU18  povertyU18_MOE  \n",
       "0             140         109             105  \n",
       "1             255         169             156  \n",
       "2             164          98              60  \n",
       "3             234          15              25  \n",
       "4             129          35              47  "
      ]
     },
     "execution_count": 7,
     "metadata": {},
     "output_type": "execute_result"
    }
   ],
   "source": [
    "#create a new variable\n",
    "url = 'https://raw.githubusercontent.com/'\\\n",
    "      'allisonhorst/EDS_221_programming-essentials/'\\\n",
    "      'main/activities/stl_blood_lead.csv'\n",
    "#pandas can read a dataframe right from a url\n",
    "stl_lead = pd.read_csv(url)\n",
    "stl_lead.head()"
   ]
  },
  {
   "cell_type": "code",
   "execution_count": 6,
   "metadata": {},
   "outputs": [
    {
     "data": {
      "text/plain": [
       "Index(['geoID', 'tractCE', 'nameLSAD', 'countTested', 'pctElevated',\n",
       "       'totalPop', 'totalPop_MOE', 'white', 'white_MOE', 'black', 'black_MOE',\n",
       "       'povertyTot', 'povertyTot_MOE', 'povertyU18', 'povertyU18_MOE'],\n",
       "      dtype='object')"
      ]
     },
     "execution_count": 6,
     "metadata": {},
     "output_type": "execute_result"
    }
   ],
   "source": [
    "#Explore the data\n",
    "stl_lead.head()\n",
    "# stl_lead.info()\n",
    "stl_lead.columns"
   ]
  },
  {
   "cell_type": "code",
   "execution_count": 31,
   "metadata": {},
   "outputs": [
    {
     "data": {
      "text/plain": [
       "23.28"
      ]
     },
     "execution_count": 31,
     "metadata": {},
     "output_type": "execute_result"
    }
   ],
   "source": [
    "#In a new code chunk, from stl_lead create a new column called prop_white that contains the percent of each census tract identifying as white \n",
    "# #(variable white in the dataset divided by variable totalPop, times 100)\n",
    "\n",
    "stl_lead['prop_white'] = stl_lead['white'] / stl_lead['totalPop'] * 100\n",
    "\n",
    "stl_lead.head()\n",
    "\n",
    "stl_lead.pctElevated.max()"
   ]
  },
  {
   "cell_type": "code",
   "execution_count": 12,
   "metadata": {},
   "outputs": [
    {
     "data": {
      "text/plain": [
       "<AxesSubplot:xlabel='prop_white', ylabel='pctElevated'>"
      ]
     },
     "execution_count": 12,
     "metadata": {},
     "output_type": "execute_result"
    },
    {
     "data": {
      "image/png": "[encoded data removed]",
      "text/plain": [
       "<Figure size 640x480 with 1 Axes>"
      ]
     },
     "metadata": {},
     "output_type": "display_data"
    }
   ],
   "source": [
    "#Create a scatterplot graph of the percentage of children in each census tract with elevated blood lead levels (pctElevated)\n",
    "# versus the percent of each census tract identifying as white\n",
    "\n",
    "sbn.scatterplot(data = stl_lead, x = stl_lead.prop_white, y = stl_lead.pctElevated)"
   ]
  },
  {
   "cell_type": "code",
   "execution_count": 32,
   "metadata": {},
   "outputs": [
    {
     "data": {
      "text/plain": [
       "<AxesSubplot:xlabel='pctElevated', ylabel='Count'>"
      ]
     },
     "execution_count": 32,
     "metadata": {},
     "output_type": "execute_result"
    },
    {
     "data": {
      "image/png": "[encoded data removed]",
      "text/plain": [
       "<Figure size 640x480 with 1 Axes>"
      ]
     },
     "metadata": {},
     "output_type": "display_data"
    }
   ],
   "source": [
    "\n",
    "sbn.histplot(\n",
    "    data = stl_lead, \n",
    "    x = stl_lead.pctElevated,\n",
    "    bins=range(24))\n",
    "\n"
   ]
  },
  {
   "cell_type": "markdown",
   "metadata": {},
   "source": [
    "## Part 2: Data Types, Indexing, Imports, and Plotting"
   ]
  },
  {
   "cell_type": "code",
   "execution_count": 41,
   "metadata": {},
   "outputs": [
    {
     "name": "stdout",
     "output_type": "stream",
     "text": [
      "<class 'list'>\n",
      "9\n",
      "2\n",
      "[8, 12, 1]\n"
     ]
    }
   ],
   "source": [
    "vec_1 = [2, 5, 9, 10, 8, 12, 1, 0]\n",
    "print(type(vec_1))\n",
    "vec_1_e3 = vec_1[2]\n",
    "print(vec_1_e3)\n",
    "\n",
    "vec_1_e1 = vec_1[0]\n",
    "print(vec_1_e1)\n",
    "\n",
    "vec_1_e5to7 = vec_1[4:7]\n",
    "print(vec_1_e5to7)"
   ]
  },
  {
   "cell_type": "code",
   "execution_count": null,
   "metadata": {},
   "outputs": [],
   "source": []
  }
 ],
 "metadata": {
  "kernelspec": {
   "display_name": "Python 3.10.5 ('eds-217')",
   "language": "python",
   "name": "python3"
  },
  "language_info": {
   "codemirror_mode": {
    "name": "ipython",
    "version": 3
   },
   "file_extension": ".py",
   "mimetype": "text/x-python",
   "name": "python",
   "nbconvert_exporter": "python",
   "pygments_lexer": "ipython3",
   "version": "3.10.5"
  },
  "orig_nbformat": 4,
  "vscode": {
   "interpreter": {
    "hash": "477af6cd1d51814771407b700a15141f197761cd17758f872ce5e89f60648a59"
   }
  }
 },
 "nbformat": 4,
 "nbformat_minor": 2
}
